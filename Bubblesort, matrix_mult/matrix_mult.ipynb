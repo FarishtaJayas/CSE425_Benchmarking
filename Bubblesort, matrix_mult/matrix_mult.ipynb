{
 "cells": [
  {
   "cell_type": "code",
   "execution_count": 86,
   "metadata": {},
   "outputs": [
    {
     "name": "stdout",
     "output_type": "stream",
     "text": [
      "[299, 379, 112, 7, 8]\n",
      "[299, 379, 112, 7, 8]\n",
      "[299, 379, 112, 7, 8]\n",
      "[299, 379, 112, 7, 8]\n",
      "[299, 379, 112, 7, 8]\n"
     ]
    }
   ],
   "source": [
    "with open('number2.txt') as f:\n",
    "    l = [int(i) for i in f]\n",
    "    part = 5\n",
    "    x = []\n",
    "    start, end = 0, part\n",
    "\n",
    "\n",
    "    while end <= len(l):\n",
    "        temp = []\n",
    "        for i in range(start, end):\n",
    "            temp.append(l[i])\n",
    "            x.append(temp)\n",
    "            start += part\n",
    "            end += part\n",
    "    y = result = x   #copying x into 2 new arrays\n",
    "\n",
    "# iterate through rows of X\n",
    "for i in range(len(X)):\n",
    "   # iterate through columns of Y\n",
    "   for j in range(len(Y[0])):\n",
    "       # iterate through rows of Y\n",
    "       for k in range(len(Y)):\n",
    "           result[i][j] += X[i][k] * Y[k][j]\n",
    "\n",
    "for r in result:\n",
    "   print(r)\n",
    "\n",
    "\n"
   ]
  },
  {
   "cell_type": "code",
   "execution_count": null,
   "metadata": {},
   "outputs": [],
   "source": []
  },
  {
   "cell_type": "code",
   "execution_count": null,
   "metadata": {},
   "outputs": [],
   "source": []
  }
 ],
 "metadata": {
  "kernelspec": {
   "display_name": "Python 3",
   "language": "python",
   "name": "python3"
  },
  "language_info": {
   "codemirror_mode": {
    "name": "ipython",
    "version": 3
   },
   "file_extension": ".py",
   "mimetype": "text/x-python",
   "name": "python",
   "nbconvert_exporter": "python",
   "pygments_lexer": "ipython3",
   "version": "3.7.6"
  }
 },
 "nbformat": 4,
 "nbformat_minor": 4
}
